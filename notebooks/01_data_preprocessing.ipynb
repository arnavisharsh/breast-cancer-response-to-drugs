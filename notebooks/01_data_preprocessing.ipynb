{
 "cells": [
  {
   "cell_type": "markdown",
   "id": "a3899a26",
   "metadata": {},
   "source": [
    "## Preprocessing the Data"
   ]
  },
  {
   "cell_type": "code",
   "execution_count": 1,
   "id": "46f3d42a",
   "metadata": {},
   "outputs": [],
   "source": [
    "import pandas as pd\n",
    "import numpy as np"
   ]
  },
  {
   "cell_type": "markdown",
   "id": "ba84d828",
   "metadata": {},
   "source": [
    "### Step 1: Filter Breast Cancer Cell Lines (Cell_Lines_Details.csv)"
   ]
  },
  {
   "cell_type": "markdown",
   "id": "1818e878",
   "metadata": {},
   "source": [
    "#### Goal is to get only the breast cancer lines\n",
    "- We need to get the COSMIC ID from one file and match it from the ones in the other file that have the site as 'breast'"
   ]
  },
  {
   "cell_type": "code",
   "execution_count": null,
   "id": "61cc43e8",
   "metadata": {},
   "outputs": [
    {
     "name": "stderr",
     "output_type": "stream",
     "text": [
      "C:\\Users\\Arnav Harsh\\AppData\\Local\\Packages\\PythonSoftwareFoundation.Python.3.12_qbz5n2kfra8p0\\LocalCache\\local-packages\\Python312\\site-packages\\openpyxl\\worksheet\\_reader.py:329: UserWarning: Unknown extension is not supported and will be removed\n",
      "  warn(msg)\n"
     ]
    }
   ],
   "source": [
    "df_details = pd.read_excel('../data/raw_data/Cell_Lines_Details.xlsx')\n",
    "## COSMIC ID sheet, if needed includes site and histology\n",
    "## df_COSMIC = pd.read_excel('../data/raw_data/Cell_Lines_Details.xlsx', sheet_name=1)"
   ]
  },
  {
   "cell_type": "code",
   "execution_count": 3,
   "id": "d36b4cf9",
   "metadata": {},
   "outputs": [
    {
     "data": {
      "text/html": [
       "<div>\n",
       "<style scoped>\n",
       "    .dataframe tbody tr th:only-of-type {\n",
       "        vertical-align: middle;\n",
       "    }\n",
       "\n",
       "    .dataframe tbody tr th {\n",
       "        vertical-align: top;\n",
       "    }\n",
       "\n",
       "    .dataframe thead th {\n",
       "        text-align: right;\n",
       "    }\n",
       "</style>\n",
       "<table border=\"1\" class=\"dataframe\">\n",
       "  <thead>\n",
       "    <tr style=\"text-align: right;\">\n",
       "      <th></th>\n",
       "      <th>Sample Name</th>\n",
       "      <th>COSMIC identifier</th>\n",
       "      <th>Whole Exome Sequencing (WES)</th>\n",
       "      <th>Copy Number Alterations (CNA)</th>\n",
       "      <th>Gene Expression</th>\n",
       "      <th>Methylation</th>\n",
       "      <th>Drug\\nResponse</th>\n",
       "      <th>GDSC\\nTissue descriptor 1</th>\n",
       "      <th>GDSC\\nTissue\\ndescriptor 2</th>\n",
       "      <th>Cancer Type\\n(matching TCGA label)</th>\n",
       "      <th>Microsatellite \\ninstability Status (MSI)</th>\n",
       "      <th>Screen Medium</th>\n",
       "      <th>Growth Properties</th>\n",
       "    </tr>\n",
       "  </thead>\n",
       "  <tbody>\n",
       "    <tr>\n",
       "      <th>0</th>\n",
       "      <td>A253</td>\n",
       "      <td>906794.0</td>\n",
       "      <td>Y</td>\n",
       "      <td>Y</td>\n",
       "      <td>Y</td>\n",
       "      <td>Y</td>\n",
       "      <td>Y</td>\n",
       "      <td>aero_dig_tract</td>\n",
       "      <td>head and neck</td>\n",
       "      <td>NaN</td>\n",
       "      <td>MSS/MSI-L</td>\n",
       "      <td>D/F12</td>\n",
       "      <td>Adherent</td>\n",
       "    </tr>\n",
       "    <tr>\n",
       "      <th>1</th>\n",
       "      <td>BB30-HNC</td>\n",
       "      <td>753531.0</td>\n",
       "      <td>Y</td>\n",
       "      <td>Y</td>\n",
       "      <td>Y</td>\n",
       "      <td>Y</td>\n",
       "      <td>Y</td>\n",
       "      <td>aero_dig_tract</td>\n",
       "      <td>head and neck</td>\n",
       "      <td>HNSC</td>\n",
       "      <td>MSS/MSI-L</td>\n",
       "      <td>D/F12</td>\n",
       "      <td>Adherent</td>\n",
       "    </tr>\n",
       "    <tr>\n",
       "      <th>2</th>\n",
       "      <td>BB49-HNC</td>\n",
       "      <td>753532.0</td>\n",
       "      <td>Y</td>\n",
       "      <td>Y</td>\n",
       "      <td>Y</td>\n",
       "      <td>Y</td>\n",
       "      <td>Y</td>\n",
       "      <td>aero_dig_tract</td>\n",
       "      <td>head and neck</td>\n",
       "      <td>HNSC</td>\n",
       "      <td>MSS/MSI-L</td>\n",
       "      <td>D/F12</td>\n",
       "      <td>Adherent</td>\n",
       "    </tr>\n",
       "    <tr>\n",
       "      <th>3</th>\n",
       "      <td>BHY</td>\n",
       "      <td>753535.0</td>\n",
       "      <td>Y</td>\n",
       "      <td>Y</td>\n",
       "      <td>Y</td>\n",
       "      <td>Y</td>\n",
       "      <td>Y</td>\n",
       "      <td>aero_dig_tract</td>\n",
       "      <td>head and neck</td>\n",
       "      <td>HNSC</td>\n",
       "      <td>MSS/MSI-L</td>\n",
       "      <td>D/F12</td>\n",
       "      <td>Adherent</td>\n",
       "    </tr>\n",
       "    <tr>\n",
       "      <th>4</th>\n",
       "      <td>BICR10</td>\n",
       "      <td>1290724.0</td>\n",
       "      <td>Y</td>\n",
       "      <td>Y</td>\n",
       "      <td>Y</td>\n",
       "      <td>Y</td>\n",
       "      <td>Y</td>\n",
       "      <td>aero_dig_tract</td>\n",
       "      <td>head and neck</td>\n",
       "      <td>HNSC</td>\n",
       "      <td>MSS/MSI-L</td>\n",
       "      <td>D/F12</td>\n",
       "      <td>Adherent</td>\n",
       "    </tr>\n",
       "  </tbody>\n",
       "</table>\n",
       "</div>"
      ],
      "text/plain": [
       "  Sample Name  COSMIC identifier Whole Exome Sequencing (WES)  \\\n",
       "0        A253           906794.0                            Y   \n",
       "1    BB30-HNC           753531.0                            Y   \n",
       "2    BB49-HNC           753532.0                            Y   \n",
       "3         BHY           753535.0                            Y   \n",
       "4      BICR10          1290724.0                            Y   \n",
       "\n",
       "  Copy Number Alterations (CNA) Gene Expression Methylation Drug\\nResponse  \\\n",
       "0                             Y               Y           Y              Y   \n",
       "1                             Y               Y           Y              Y   \n",
       "2                             Y               Y           Y              Y   \n",
       "3                             Y               Y           Y              Y   \n",
       "4                             Y               Y           Y              Y   \n",
       "\n",
       "  GDSC\\nTissue descriptor 1 GDSC\\nTissue\\ndescriptor 2  \\\n",
       "0            aero_dig_tract              head and neck   \n",
       "1            aero_dig_tract              head and neck   \n",
       "2            aero_dig_tract              head and neck   \n",
       "3            aero_dig_tract              head and neck   \n",
       "4            aero_dig_tract              head and neck   \n",
       "\n",
       "  Cancer Type\\n(matching TCGA label)  \\\n",
       "0                                NaN   \n",
       "1                               HNSC   \n",
       "2                               HNSC   \n",
       "3                               HNSC   \n",
       "4                               HNSC   \n",
       "\n",
       "  Microsatellite \\ninstability Status (MSI) Screen Medium Growth Properties  \n",
       "0                                 MSS/MSI-L         D/F12          Adherent  \n",
       "1                                 MSS/MSI-L         D/F12          Adherent  \n",
       "2                                 MSS/MSI-L         D/F12          Adherent  \n",
       "3                                 MSS/MSI-L         D/F12          Adherent  \n",
       "4                                 MSS/MSI-L         D/F12          Adherent  "
      ]
     },
     "execution_count": 3,
     "metadata": {},
     "output_type": "execute_result"
    }
   ],
   "source": [
    "df_details.head(5)"
   ]
  },
  {
   "cell_type": "code",
   "execution_count": 9,
   "id": "706e148a",
   "metadata": {},
   "outputs": [
    {
     "name": "stdout",
     "output_type": "stream",
     "text": [
      "52\n"
     ]
    }
   ],
   "source": [
    "filtered_details_df = df_details[df_details['GDSC\\nTissue\\ndescriptor 2'] == 'breast']\n",
    "filtered_details_df.head(5)\n",
    "print(len(filtered_details_df))"
   ]
  },
  {
   "cell_type": "markdown",
   "id": "3dc4233c",
   "metadata": {},
   "source": [
    "N is only 52, therefore we only have 52 samples.\n",
    "Since we are focusing on just breast cancer this helps us be more consistant and let our results be more interpretable."
   ]
  },
  {
   "cell_type": "markdown",
   "id": "64365520",
   "metadata": {},
   "source": [
    "### Step 2: Filter rows of GDSC2_FITTED_DOSE_RESPONSE.csv to only contain those cell lines with matching COSMIC ID from filtered_details_df"
   ]
  },
  {
   "cell_type": "markdown",
   "id": "9569a85b",
   "metadata": {},
   "source": []
  }
 ],
 "metadata": {
  "kernelspec": {
   "display_name": "Python 3",
   "language": "python",
   "name": "python3"
  },
  "language_info": {
   "codemirror_mode": {
    "name": "ipython",
    "version": 3
   },
   "file_extension": ".py",
   "mimetype": "text/x-python",
   "name": "python",
   "nbconvert_exporter": "python",
   "pygments_lexer": "ipython3",
   "version": "3.12.10"
  }
 },
 "nbformat": 4,
 "nbformat_minor": 5
}
