{
 "cells": [
  {
   "cell_type": "markdown",
   "id": "85418a1b",
   "metadata": {},
   "source": [
    "## Regression Model Training + Testing"
   ]
  },
  {
   "cell_type": "code",
   "execution_count": 2,
   "id": "0205dc9f",
   "metadata": {},
   "outputs": [],
   "source": [
    "import pandas as pd\n",
    "import numpy as np"
   ]
  },
  {
   "cell_type": "code",
   "execution_count": 3,
   "id": "1f896122",
   "metadata": {},
   "outputs": [],
   "source": [
    "expression_df = pd.read_csv(\"../data/processed_data/expression_data.csv\")"
   ]
  },
  {
   "cell_type": "code",
   "execution_count": 4,
   "id": "2fda90cb",
   "metadata": {},
   "outputs": [],
   "source": [
    "drug_response_df = pd.read_csv(\"../data/processed_data/drug_response_data.csv\")"
   ]
  },
  {
   "cell_type": "markdown",
   "id": "7ed07903",
   "metadata": {},
   "source": [
    "Make sure data is aligned"
   ]
  },
  {
   "cell_type": "code",
   "execution_count": 60,
   "id": "8c615668",
   "metadata": {},
   "outputs": [],
   "source": [
    "common_ids = expression_df.index.intersection(drug_response_df.index)\n",
    "\n",
    "X = expression_df.loc[common_ids]\n",
    "y = drug_response_df.loc[common_ids]\n",
    "\n",
    "assert (X.index == y.index).all() ## does nothing if WORKS, will throw error otherwise, keep that as a note"
   ]
  },
  {
   "cell_type": "markdown",
   "id": "a6de8e0f",
   "metadata": {},
   "source": [
    "No error, therefore it is aligned"
   ]
  },
  {
   "cell_type": "markdown",
   "id": "c9dda7e3",
   "metadata": {},
   "source": [
    "#### Selecting Drugs to Train"
   ]
  },
  {
   "cell_type": "markdown",
   "id": "ecbcee94",
   "metadata": {},
   "source": [
    "First we must determine which drugs will the model be trained on"
   ]
  },
  {
   "cell_type": "code",
   "execution_count": 55,
   "id": "07320c24",
   "metadata": {},
   "outputs": [
    {
     "name": "stdout",
     "output_type": "stream",
     "text": [
      "127\n"
     ]
    }
   ],
   "source": [
    "valid_counts = drug_response_df.notna().sum()\n",
    "training_drugs = valid_counts[valid_counts >= 50].index.tolist()\n",
    "print(len(training_drugs))"
   ]
  },
  {
   "cell_type": "code",
   "execution_count": 56,
   "id": "219d4a9f",
   "metadata": {},
   "outputs": [
    {
     "name": "stdout",
     "output_type": "stream",
     "text": [
      "['COSMIC_ID', '5-Fluorouracil', 'ABT737', 'AGI-5198', 'AGK2', 'AMG-319', 'AT13148', 'AZ6102', 'AZD3759', 'AZD4547', 'AZD5363', 'AZD6738', 'AZD7762', 'AZD8186', 'Afatinib', 'Afuresertib', 'Alpelisib', 'Avagacestat', 'Axitinib', 'BIBR-1532', 'BMS-536924', 'BMS-754807', 'Bortezomib', 'Bosutinib', 'Buparlisib', 'Camptothecin', 'Cediranib', 'Cisplatin', 'Crizotinib', 'Cyclophosphamide', 'Dabrafenib', 'Dactinomycin', 'Dactolisib', 'Dasatinib', 'Docetaxel', 'Doramapimod', 'EHT-1864', 'EPZ004777', 'EPZ5676', 'Entinostat', 'Epirubicin', 'Erlotinib', 'Foretinib', 'Fulvestrant', 'GDC0810', 'GNE-317', 'GSK1904529A', 'GSK2578215A', 'GSK343', 'GSK591', 'Gefitinib', 'Gemcitabine', 'I-BRD9', 'Ipatasertib', 'Irinotecan', 'JQ1', 'KU-55933', 'LGK974', 'LJI308', 'Lapatinib', 'Lenalidomide', 'Lestaurtinib', 'Linsitinib', 'Luminespib', 'MG-132', 'MIRA-1', 'MK-1775', 'MK-2206', 'MK-8776', 'Motesanib', 'NU7441', 'NVP-ADW742', 'Navitoclax', 'Nilotinib', 'Nutlin-3a (-)', 'OSI-027', 'Olaparib', 'Osimertinib', 'Oxaliplatin', 'P22077', 'PD0325901', 'PD173074', 'PFI-1', 'PLX-4720', 'Paclitaxel', 'Palbociclib', 'Pevonedistat', 'Pictilisib', 'Pyridostatin', 'RO-3306', 'Rapamycin', 'Refametinib', 'Ribociclib', 'Rucaparib', 'SB216763', 'SB590885', 'SCH772984', 'SGC0946', 'SN-38', 'Sapitinib', 'Savolitinib', 'Selumetinib', 'Sepantronium bromide', 'Serdemetan', 'Sorafenib', 'Staurosporine', 'Talazoparib', 'Tamoxifen', 'Tanespimycin', 'Taselisib', 'Telomerase Inhibitor IX', 'Temozolomide', 'Trametinib', 'Ulixertinib', 'Uprosertib', 'VE821', 'VX-11e', 'Veliparib', 'Venetoclax', 'Vinorelbine', 'Vismodegib', 'Vorinostat', 'WEHI-539', 'WIKI4', 'Wee1 Inhibitor', 'YK-4-279', 'ZM447439']\n"
     ]
    }
   ],
   "source": [
    "print(training_drugs)"
   ]
  },
  {
   "cell_type": "code",
   "execution_count": 57,
   "id": "44a1b220",
   "metadata": {},
   "outputs": [
    {
     "name": "stdout",
     "output_type": "stream",
     "text": [
      "['5-Fluorouracil', 'ABT737', 'AGI-5198', 'AGK2', 'AMG-319', 'AT13148', 'AZ6102', 'AZD3759', 'AZD4547', 'AZD5363', 'AZD6738', 'AZD7762', 'AZD8186', 'Afatinib', 'Afuresertib', 'Alpelisib', 'Avagacestat', 'Axitinib', 'BIBR-1532', 'BMS-536924', 'BMS-754807', 'Bortezomib', 'Bosutinib', 'Buparlisib', 'Camptothecin', 'Cediranib', 'Cisplatin', 'Crizotinib', 'Cyclophosphamide', 'Dabrafenib', 'Dactinomycin', 'Dactolisib', 'Dasatinib', 'Docetaxel', 'Doramapimod', 'EHT-1864', 'EPZ004777', 'EPZ5676', 'Entinostat', 'Epirubicin', 'Erlotinib', 'Foretinib', 'Fulvestrant', 'GDC0810', 'GNE-317', 'GSK1904529A', 'GSK2578215A', 'GSK343', 'GSK591', 'Gefitinib', 'Gemcitabine', 'I-BRD9', 'Ipatasertib', 'Irinotecan', 'JQ1', 'KU-55933', 'LGK974', 'LJI308', 'Lapatinib', 'Lenalidomide', 'Lestaurtinib', 'Linsitinib', 'Luminespib', 'MG-132', 'MIRA-1', 'MK-1775', 'MK-2206', 'MK-8776', 'Motesanib', 'NU7441', 'NVP-ADW742', 'Navitoclax', 'Nilotinib', 'Nutlin-3a (-)', 'OSI-027', 'Olaparib', 'Osimertinib', 'Oxaliplatin', 'P22077', 'PD0325901', 'PD173074', 'PFI-1', 'PLX-4720', 'Paclitaxel', 'Palbociclib', 'Pevonedistat', 'Pictilisib', 'Pyridostatin', 'RO-3306', 'Rapamycin', 'Refametinib', 'Ribociclib', 'Rucaparib', 'SB216763', 'SB590885', 'SCH772984', 'SGC0946', 'SN-38', 'Sapitinib', 'Savolitinib', 'Selumetinib', 'Sepantronium bromide', 'Serdemetan', 'Sorafenib', 'Staurosporine', 'Talazoparib', 'Tamoxifen', 'Tanespimycin', 'Taselisib', 'Telomerase Inhibitor IX', 'Temozolomide', 'Trametinib', 'Ulixertinib', 'Uprosertib', 'VE821', 'VX-11e', 'Veliparib', 'Venetoclax', 'Vinorelbine', 'Vismodegib', 'Vorinostat', 'WEHI-539', 'WIKI4', 'Wee1 Inhibitor', 'YK-4-279', 'ZM447439']\n"
     ]
    }
   ],
   "source": [
    "training_drugs = training_drugs[1 :]\n",
    "print(training_drugs)"
   ]
  },
  {
   "cell_type": "markdown",
   "id": "cc980659",
   "metadata": {},
   "source": [
    "We can see that the drugs with at least 50 samples is the most effective number since we get 127 drugs. If we increase the samples to 52 we only get 14 samples. However to be safe we will:\n",
    "- Log the number of samples used per drug\n",
    "- Use cross-validation per drug to mitigate variance\n",
    "- Prioritize post-analysis of drugs with best regression performance or biological relevance"
   ]
  },
  {
   "cell_type": "markdown",
   "id": "26128564",
   "metadata": {},
   "source": [
    "#### Deciding the Regression Model to Use"
   ]
  },
  {
   "cell_type": "markdown",
   "id": "683010c9",
   "metadata": {},
   "source": [
    "To help determine what model is best, we will first plot some graphs to help us determine any relationships"
   ]
  },
  {
   "cell_type": "code",
   "execution_count": 63,
   "id": "d066f4f9",
   "metadata": {},
   "outputs": [],
   "source": [
    "import matplotlib.pyplot as plt\n",
    "import seaborn as sns"
   ]
  },
  {
   "cell_type": "code",
   "execution_count": 65,
   "id": "46e822ff",
   "metadata": {},
   "outputs": [
    {
     "ename": "KeyError",
     "evalue": "'[44, 45, 46, 47, 48, 49, 50, 51] not in index'",
     "output_type": "error",
     "traceback": [
      "\u001b[31m---------------------------------------------------------------------------\u001b[39m",
      "\u001b[31mKeyError\u001b[39m                                  Traceback (most recent call last)",
      "\u001b[36mCell\u001b[39m\u001b[36m \u001b[39m\u001b[32mIn[65]\u001b[39m\u001b[32m, line 7\u001b[39m\n\u001b[32m      5\u001b[39m drug = training_drugs[\u001b[32m0\u001b[39m]\n\u001b[32m      6\u001b[39m y = drug_response_df[drug].dropna()\n\u001b[32m----> \u001b[39m\u001b[32m7\u001b[39m X = \u001b[43mexpression_df\u001b[49m\u001b[43m.\u001b[49m\u001b[43mloc\u001b[49m\u001b[43m[\u001b[49m\u001b[43my\u001b[49m\u001b[43m.\u001b[49m\u001b[43mindex\u001b[49m\u001b[43m]\u001b[49m\n\u001b[32m      9\u001b[39m \u001b[38;5;66;03m# Compute correlation between each gene and drug response\u001b[39;00m\n\u001b[32m     10\u001b[39m correlations = X.corrwith(y).dropna()\n",
      "\u001b[36mFile \u001b[39m\u001b[32m~\\AppData\\Local\\Packages\\PythonSoftwareFoundation.Python.3.12_qbz5n2kfra8p0\\LocalCache\\local-packages\\Python312\\site-packages\\pandas\\core\\indexing.py:1191\u001b[39m, in \u001b[36m_LocationIndexer.__getitem__\u001b[39m\u001b[34m(self, key)\u001b[39m\n\u001b[32m   1189\u001b[39m maybe_callable = com.apply_if_callable(key, \u001b[38;5;28mself\u001b[39m.obj)\n\u001b[32m   1190\u001b[39m maybe_callable = \u001b[38;5;28mself\u001b[39m._check_deprecated_callable_usage(key, maybe_callable)\n\u001b[32m-> \u001b[39m\u001b[32m1191\u001b[39m \u001b[38;5;28;01mreturn\u001b[39;00m \u001b[38;5;28;43mself\u001b[39;49m\u001b[43m.\u001b[49m\u001b[43m_getitem_axis\u001b[49m\u001b[43m(\u001b[49m\u001b[43mmaybe_callable\u001b[49m\u001b[43m,\u001b[49m\u001b[43m \u001b[49m\u001b[43maxis\u001b[49m\u001b[43m=\u001b[49m\u001b[43maxis\u001b[49m\u001b[43m)\u001b[49m\n",
      "\u001b[36mFile \u001b[39m\u001b[32m~\\AppData\\Local\\Packages\\PythonSoftwareFoundation.Python.3.12_qbz5n2kfra8p0\\LocalCache\\local-packages\\Python312\\site-packages\\pandas\\core\\indexing.py:1420\u001b[39m, in \u001b[36m_LocIndexer._getitem_axis\u001b[39m\u001b[34m(self, key, axis)\u001b[39m\n\u001b[32m   1417\u001b[39m     \u001b[38;5;28;01mif\u001b[39;00m \u001b[38;5;28mhasattr\u001b[39m(key, \u001b[33m\"\u001b[39m\u001b[33mndim\u001b[39m\u001b[33m\"\u001b[39m) \u001b[38;5;129;01mand\u001b[39;00m key.ndim > \u001b[32m1\u001b[39m:\n\u001b[32m   1418\u001b[39m         \u001b[38;5;28;01mraise\u001b[39;00m \u001b[38;5;167;01mValueError\u001b[39;00m(\u001b[33m\"\u001b[39m\u001b[33mCannot index with multidimensional key\u001b[39m\u001b[33m\"\u001b[39m)\n\u001b[32m-> \u001b[39m\u001b[32m1420\u001b[39m     \u001b[38;5;28;01mreturn\u001b[39;00m \u001b[38;5;28;43mself\u001b[39;49m\u001b[43m.\u001b[49m\u001b[43m_getitem_iterable\u001b[49m\u001b[43m(\u001b[49m\u001b[43mkey\u001b[49m\u001b[43m,\u001b[49m\u001b[43m \u001b[49m\u001b[43maxis\u001b[49m\u001b[43m=\u001b[49m\u001b[43maxis\u001b[49m\u001b[43m)\u001b[49m\n\u001b[32m   1422\u001b[39m \u001b[38;5;66;03m# nested tuple slicing\u001b[39;00m\n\u001b[32m   1423\u001b[39m \u001b[38;5;28;01mif\u001b[39;00m is_nested_tuple(key, labels):\n",
      "\u001b[36mFile \u001b[39m\u001b[32m~\\AppData\\Local\\Packages\\PythonSoftwareFoundation.Python.3.12_qbz5n2kfra8p0\\LocalCache\\local-packages\\Python312\\site-packages\\pandas\\core\\indexing.py:1360\u001b[39m, in \u001b[36m_LocIndexer._getitem_iterable\u001b[39m\u001b[34m(self, key, axis)\u001b[39m\n\u001b[32m   1357\u001b[39m \u001b[38;5;28mself\u001b[39m._validate_key(key, axis)\n\u001b[32m   1359\u001b[39m \u001b[38;5;66;03m# A collection of keys\u001b[39;00m\n\u001b[32m-> \u001b[39m\u001b[32m1360\u001b[39m keyarr, indexer = \u001b[38;5;28;43mself\u001b[39;49m\u001b[43m.\u001b[49m\u001b[43m_get_listlike_indexer\u001b[49m\u001b[43m(\u001b[49m\u001b[43mkey\u001b[49m\u001b[43m,\u001b[49m\u001b[43m \u001b[49m\u001b[43maxis\u001b[49m\u001b[43m)\u001b[49m\n\u001b[32m   1361\u001b[39m \u001b[38;5;28;01mreturn\u001b[39;00m \u001b[38;5;28mself\u001b[39m.obj._reindex_with_indexers(\n\u001b[32m   1362\u001b[39m     {axis: [keyarr, indexer]}, copy=\u001b[38;5;28;01mTrue\u001b[39;00m, allow_dups=\u001b[38;5;28;01mTrue\u001b[39;00m\n\u001b[32m   1363\u001b[39m )\n",
      "\u001b[36mFile \u001b[39m\u001b[32m~\\AppData\\Local\\Packages\\PythonSoftwareFoundation.Python.3.12_qbz5n2kfra8p0\\LocalCache\\local-packages\\Python312\\site-packages\\pandas\\core\\indexing.py:1558\u001b[39m, in \u001b[36m_LocIndexer._get_listlike_indexer\u001b[39m\u001b[34m(self, key, axis)\u001b[39m\n\u001b[32m   1555\u001b[39m ax = \u001b[38;5;28mself\u001b[39m.obj._get_axis(axis)\n\u001b[32m   1556\u001b[39m axis_name = \u001b[38;5;28mself\u001b[39m.obj._get_axis_name(axis)\n\u001b[32m-> \u001b[39m\u001b[32m1558\u001b[39m keyarr, indexer = \u001b[43max\u001b[49m\u001b[43m.\u001b[49m\u001b[43m_get_indexer_strict\u001b[49m\u001b[43m(\u001b[49m\u001b[43mkey\u001b[49m\u001b[43m,\u001b[49m\u001b[43m \u001b[49m\u001b[43maxis_name\u001b[49m\u001b[43m)\u001b[49m\n\u001b[32m   1560\u001b[39m \u001b[38;5;28;01mreturn\u001b[39;00m keyarr, indexer\n",
      "\u001b[36mFile \u001b[39m\u001b[32m~\\AppData\\Local\\Packages\\PythonSoftwareFoundation.Python.3.12_qbz5n2kfra8p0\\LocalCache\\local-packages\\Python312\\site-packages\\pandas\\core\\indexes\\base.py:6200\u001b[39m, in \u001b[36mIndex._get_indexer_strict\u001b[39m\u001b[34m(self, key, axis_name)\u001b[39m\n\u001b[32m   6197\u001b[39m \u001b[38;5;28;01melse\u001b[39;00m:\n\u001b[32m   6198\u001b[39m     keyarr, indexer, new_indexer = \u001b[38;5;28mself\u001b[39m._reindex_non_unique(keyarr)\n\u001b[32m-> \u001b[39m\u001b[32m6200\u001b[39m \u001b[38;5;28;43mself\u001b[39;49m\u001b[43m.\u001b[49m\u001b[43m_raise_if_missing\u001b[49m\u001b[43m(\u001b[49m\u001b[43mkeyarr\u001b[49m\u001b[43m,\u001b[49m\u001b[43m \u001b[49m\u001b[43mindexer\u001b[49m\u001b[43m,\u001b[49m\u001b[43m \u001b[49m\u001b[43maxis_name\u001b[49m\u001b[43m)\u001b[49m\n\u001b[32m   6202\u001b[39m keyarr = \u001b[38;5;28mself\u001b[39m.take(indexer)\n\u001b[32m   6203\u001b[39m \u001b[38;5;28;01mif\u001b[39;00m \u001b[38;5;28misinstance\u001b[39m(key, Index):\n\u001b[32m   6204\u001b[39m     \u001b[38;5;66;03m# GH 42790 - Preserve name from an Index\u001b[39;00m\n",
      "\u001b[36mFile \u001b[39m\u001b[32m~\\AppData\\Local\\Packages\\PythonSoftwareFoundation.Python.3.12_qbz5n2kfra8p0\\LocalCache\\local-packages\\Python312\\site-packages\\pandas\\core\\indexes\\base.py:6252\u001b[39m, in \u001b[36mIndex._raise_if_missing\u001b[39m\u001b[34m(self, key, indexer, axis_name)\u001b[39m\n\u001b[32m   6249\u001b[39m     \u001b[38;5;28;01mraise\u001b[39;00m \u001b[38;5;167;01mKeyError\u001b[39;00m(\u001b[33mf\u001b[39m\u001b[33m\"\u001b[39m\u001b[33mNone of [\u001b[39m\u001b[38;5;132;01m{\u001b[39;00mkey\u001b[38;5;132;01m}\u001b[39;00m\u001b[33m] are in the [\u001b[39m\u001b[38;5;132;01m{\u001b[39;00maxis_name\u001b[38;5;132;01m}\u001b[39;00m\u001b[33m]\u001b[39m\u001b[33m\"\u001b[39m)\n\u001b[32m   6251\u001b[39m not_found = \u001b[38;5;28mlist\u001b[39m(ensure_index(key)[missing_mask.nonzero()[\u001b[32m0\u001b[39m]].unique())\n\u001b[32m-> \u001b[39m\u001b[32m6252\u001b[39m \u001b[38;5;28;01mraise\u001b[39;00m \u001b[38;5;167;01mKeyError\u001b[39;00m(\u001b[33mf\u001b[39m\u001b[33m\"\u001b[39m\u001b[38;5;132;01m{\u001b[39;00mnot_found\u001b[38;5;132;01m}\u001b[39;00m\u001b[33m not in index\u001b[39m\u001b[33m\"\u001b[39m)\n",
      "\u001b[31mKeyError\u001b[39m: '[44, 45, 46, 47, 48, 49, 50, 51] not in index'"
     ]
    }
   ],
   "source": [
    "import seaborn as sns\n",
    "import matplotlib.pyplot as plt\n",
    "\n",
    "# Example: pick a drug\n",
    "drug = training_drugs[0]\n",
    "y = drug_response_df[drug].dropna()\n",
    "X = expression_df.loc[y.index]\n",
    "\n",
    "# Compute correlation between each gene and drug response\n",
    "correlations = X.corrwith(y).dropna()\n",
    "\n",
    "# Plot top 20 positively and negatively correlated genes\n",
    "top_genes = correlations.abs().sort_values(ascending=False).head(20).index\n",
    "sns.heatmap(X[top_genes].join(y).corr(), cmap=\"coolwarm\", annot=False)\n",
    "plt.title(f\"Gene Expression vs Drug Response Correlation ({drug})\")\n",
    "plt.show()"
   ]
  },
  {
   "cell_type": "code",
   "execution_count": null,
   "id": "2f5efa8f",
   "metadata": {},
   "outputs": [],
   "source": []
  }
 ],
 "metadata": {
  "kernelspec": {
   "display_name": "Python 3",
   "language": "python",
   "name": "python3"
  },
  "language_info": {
   "codemirror_mode": {
    "name": "ipython",
    "version": 3
   },
   "file_extension": ".py",
   "mimetype": "text/x-python",
   "name": "python",
   "nbconvert_exporter": "python",
   "pygments_lexer": "ipython3",
   "version": "3.12.10"
  }
 },
 "nbformat": 4,
 "nbformat_minor": 5
}
